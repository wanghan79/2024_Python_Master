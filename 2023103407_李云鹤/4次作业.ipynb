{
  "nbformat": 4,
  "nbformat_minor": 0,
  "metadata": {
    "colab": {
      "provenance": [],
      "toc_visible": true
    },
    "kernelspec": {
      "name": "python3",
      "display_name": "Python 3"
    },
    "language_info": {
      "name": "python"
    }
  },
  "cells": [
    {
      "cell_type": "markdown",
      "source": [
        "# 1.Function Encapsulation and Generating Random Numbers with Arbitrary Parameters"
      ],
      "metadata": {
        "id": "m-z8aZ7AU4_l"
      }
    },
    {
      "cell_type": "code",
      "source": [
        "import random\n",
        "\n",
        "def generate_random(*args, **kwargs):\n",
        "    # Create an empty dictionary to store the generated random numbers\n",
        "    random_numbers = {}\n",
        "\n",
        "    # Handle positional arguments\n",
        "    for i, arg in enumerate(args):\n",
        "        # If the argument is a list, tuple, or set, generate a corresponding structure with random numbers\n",
        "        if isinstance(arg, (list, tuple, set)):\n",
        "            random_numbers[f'arg_{i}'] = type(arg)(random.randint(1, 100) for _ in arg)\n",
        "        # If the argument is a dictionary, generate a new dictionary with random numbers as values\n",
        "        elif isinstance(arg, dict):\n",
        "            random_numbers[f'arg_{i}'] = {key: random.randint(1, 100) for key in arg}\n",
        "        # Otherwise, generate a single random number\n",
        "        else:\n",
        "            random_numbers[f'arg_{i}'] = random.randint(1, 100)\n",
        "\n",
        "    # Handle keyword arguments\n",
        "    for key, value in kwargs.items():\n",
        "        # If the argument is a list, tuple, or set, generate a corresponding structure with random numbers\n",
        "        if isinstance(value, (list, tuple, set)):\n",
        "            random_numbers[key] = type(value)(random.randint(1, 100) for _ in value)\n",
        "        # If the argument is a dictionary, generate a new dictionary with random numbers as values\n",
        "        elif isinstance(value, dict):\n",
        "            random_numbers[key] = {k: random.randint(1, 100) for k in value}\n",
        "        # Otherwise, generate a single random number\n",
        "        else:\n",
        "            random_numbers[key] = random.randint(1, 100)\n",
        "\n",
        "    # Return the dictionary containing all the random numbers\n",
        "    return random_numbers\n",
        "\n",
        "# Example call\n",
        "print(generate_random([1, 2, 3], (1, 2, 3), {1, 2, 3}, a=[4, 5, 6], b={'x': 7, 'y': 8}))\n"
      ],
      "metadata": {
        "colab": {
          "base_uri": "https://localhost:8080/"
        },
        "id": "tYJxaaihVsvT",
        "outputId": "9aebe299-c4c4-49c5-d38b-559dd79e0529"
      },
      "execution_count": 1,
      "outputs": [
        {
          "output_type": "stream",
          "name": "stdout",
          "text": [
            "{'arg_0': [35, 50, 83], 'arg_1': (54, 94, 16), 'arg_2': {18, 70, 14}, 'a': [5, 17, 16], 'b': {'x': 99, 'y': 94}}\n"
          ]
        }
      ]
    },
    {
      "cell_type": "markdown",
      "source": [
        "# 2.Encapsulating the Above Function into a Class"
      ],
      "metadata": {
        "id": "PTt28iZoU3Qo"
      }
    },
    {
      "cell_type": "code",
      "source": [
        "import random\n",
        "\n",
        "class RandomGenerator:\n",
        "    def __init__(self):\n",
        "        pass\n",
        "\n",
        "    def generate_random(self, *args, **kwargs):\n",
        "        # Create an empty dictionary to store the generated random numbers\n",
        "        random_numbers = {}\n",
        "\n",
        "        # Handle positional arguments\n",
        "        for i, arg in enumerate(args):\n",
        "            # If the argument is a list, tuple, or set, generate a corresponding structure with random numbers\n",
        "            if isinstance(arg, (list, tuple, set)):\n",
        "                random_numbers[f'arg_{i}'] = type(arg)(random.randint(1, 100) for _ in arg)\n",
        "            # If the argument is a dictionary, generate a new dictionary with random numbers as values\n",
        "            elif isinstance(arg, dict):\n",
        "                random_numbers[f'arg_{i}'] = {key: random.randint(1, 100) for key in arg}\n",
        "            # Otherwise, generate a single random number\n",
        "            else:\n",
        "                random_numbers[f'arg_{i}'] = random.randint(1, 100)\n",
        "\n",
        "        # Handle keyword arguments\n",
        "        for key, value in kwargs.items():\n",
        "            # If the argument is a list, tuple, or set, generate a corresponding structure with random numbers\n",
        "            if isinstance(value, (list, tuple, set)):\n",
        "                random_numbers[key] = type(value)(random.randint(1, 100) for _ in value)\n",
        "            # If the argument is a dictionary, generate a new dictionary with random numbers as values\n",
        "            elif isinstance(value, dict):\n",
        "                random_numbers[key] = {k: random.randint(1, 100) for k in value}\n",
        "            # Otherwise, generate a single random number\n",
        "            else:\n",
        "                random_numbers[key] = random.randint(1, 100)\n",
        "\n",
        "        # Return the dictionary containing all the random numbers\n",
        "        return random_numbers\n",
        "\n",
        "# Example call\n",
        "generator = RandomGenerator()\n",
        "print(generator.generate_random([1, 2, 3], (1, 2, 3), {1, 2, 3}, a=[4, 5, 6], b={'x': 7, 'y': 8}))\n"
      ],
      "metadata": {
        "colab": {
          "base_uri": "https://localhost:8080/"
        },
        "id": "xGOwaOyrVyOD",
        "outputId": "19f5a274-6cd2-4474-b378-3a1858b7a3c3"
      },
      "execution_count": 2,
      "outputs": [
        {
          "output_type": "stream",
          "name": "stdout",
          "text": [
            "{'arg_0': [26, 76, 65], 'arg_1': (1, 76, 60), 'arg_2': {96, 44, 12}, 'a': [53, 42, 30], 'b': {'x': 99, 'y': 62}}\n"
          ]
        }
      ]
    },
    {
      "cell_type": "markdown",
      "source": [
        "# 3.Dynamic Parameter Decorator"
      ],
      "metadata": {
        "id": "KkBqHdJsVWSd"
      }
    },
    {
      "cell_type": "code",
      "source": [
        "import functools\n",
        "\n",
        "def dynamic_decorator(*decorator_args, **decorator_kwargs):\n",
        "    # Decorator factory that accepts decorator arguments\n",
        "    def decorator(func):\n",
        "        @functools.wraps(func)\n",
        "        # Wrapper function that accepts the decorated function's arguments\n",
        "        def wrapper(*args, **kwargs):\n",
        "            # Print decorator arguments\n",
        "            print(f'Decorator arguments: {decorator_args}, {decorator_kwargs}')\n",
        "            # Print the decorated function's arguments\n",
        "            print(f'Function arguments: {args}, {kwargs}')\n",
        "            # Call the decorated function and return its result\n",
        "            return func(*args, **kwargs)\n",
        "        return wrapper\n",
        "    return decorator\n",
        "\n",
        "# Example function\n",
        "@dynamic_decorator('param1', 'param2', key='value')\n",
        "def example_function(x, y):\n",
        "    return x + y\n",
        "\n",
        "# Example call to the decorated function\n",
        "print(example_function(5, 10))\n"
      ],
      "metadata": {
        "colab": {
          "base_uri": "https://localhost:8080/"
        },
        "id": "zjN6937FV5Ty",
        "outputId": "0a244ef7-2567-487a-8b63-2373b70d9624"
      },
      "execution_count": 3,
      "outputs": [
        {
          "output_type": "stream",
          "name": "stdout",
          "text": [
            "Decorator arguments: ('param1', 'param2'), {'key': 'value'}\n",
            "Function arguments: (5, 10), {}\n",
            "15\n"
          ]
        }
      ]
    },
    {
      "cell_type": "markdown",
      "source": [
        "# Final test: Generator Implementation of Random Structures"
      ],
      "metadata": {
        "id": "hZz94LMLq0nw"
      }
    },
    {
      "cell_type": "code",
      "source": [
        "import random\n",
        "\n",
        "def random_structure_generator(data):\n",
        "    if isinstance(data, (list, tuple, set)):\n",
        "        for _ in data:\n",
        "            yield random.randint(1, 100)\n",
        "    elif isinstance(data, dict):\n",
        "        for key in data:\n",
        "            yield key, random.randint(1, 100)\n",
        "    else:\n",
        "        yield random.randint(1, 100)\n",
        "\n",
        "def generate_random_with_generator(*args, **kwargs):\n",
        "    random_numbers = {}\n",
        "\n",
        "    for i, arg in enumerate(args):\n",
        "        if isinstance(arg, dict):\n",
        "            random_numbers[f'arg_{i}'] = {k: v for k, v in random_structure_generator(arg)}\n",
        "        else:\n",
        "            random_numbers[f'arg_{i}'] = type(arg)(random_structure_generator(arg))\n",
        "\n",
        "    for key, value in kwargs.items():\n",
        "        if isinstance(value, dict):\n",
        "            random_numbers[key] = {k: v for k, v in random_structure_generator(value)}\n",
        "        else:\n",
        "            random_numbers[key] = type(value)(random_structure_generator(value))\n",
        "\n",
        "    return random_numbers\n",
        "\n",
        "# 示例调用\n",
        "print(generate_random_with_generator([1, 2, 3], (1, 2, 3), {1, 2, 3}, a=[4, 5, 6], b={'x': 7, 'y': 8}))\n"
      ],
      "metadata": {
        "colab": {
          "base_uri": "https://localhost:8080/"
        },
        "id": "RNxL8JjOq0-P",
        "outputId": "046c1f29-ce9b-4ebf-8c2d-800a0c914905"
      },
      "execution_count": 1,
      "outputs": [
        {
          "output_type": "stream",
          "name": "stdout",
          "text": [
            "{'arg_0': [90, 47, 35], 'arg_1': (87, 6, 21), 'arg_2': {16, 76, 29}, 'a': [81, 84, 39], 'b': {'x': 70, 'y': 78}}\n"
          ]
        }
      ]
    },
    {
      "cell_type": "markdown",
      "source": [
        "# Example Calls"
      ],
      "metadata": {
        "id": "aisn66meWBJ0"
      }
    },
    {
      "cell_type": "code",
      "source": [
        "# Using the function to generate random numbers\n",
        "print(generate_random([1, 2, 3], (1, 2, 3), {1, 2, 3}, a=[4, 5, 6], b={'x': 7, 'y': 8}))\n",
        "\n",
        "# Using the class to generate random numbers\n",
        "generator = RandomGenerator()\n",
        "print(generator.generate_random([1, 2, 3], (1, 2, 3), {1, 2, 3}, a=[4, 5, 6], b={'x': 7, 'y': 8}))\n",
        "\n",
        "# Using the decorator\n",
        "@dynamic_decorator('param1', 'param2', key='value')\n",
        "def example_function(x, y):\n",
        "    return x + y\n",
        "\n",
        "# Example call to the decorated function\n",
        "print(example_function(5, 10))\n"
      ],
      "metadata": {
        "colab": {
          "base_uri": "https://localhost:8080/"
        },
        "id": "Um-n6zpKWDBP",
        "outputId": "e304495e-e2db-4d5d-e691-df97e2c9e4c1"
      },
      "execution_count": 4,
      "outputs": [
        {
          "output_type": "stream",
          "name": "stdout",
          "text": [
            "{'arg_0': [27, 80, 35], 'arg_1': (8, 89, 79), 'arg_2': {90, 85, 62}, 'a': [35, 51, 1], 'b': {'x': 28, 'y': 81}}\n",
            "{'arg_0': [86, 100, 42], 'arg_1': (72, 11, 24), 'arg_2': {91, 12, 15}, 'a': [78, 63, 17], 'b': {'x': 31, 'y': 35}}\n",
            "Decorator arguments: ('param1', 'param2'), {'key': 'value'}\n",
            "Function arguments: (5, 10), {}\n",
            "15\n"
          ]
        }
      ]
    }
  ]
}